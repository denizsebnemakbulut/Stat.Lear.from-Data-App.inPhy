{
  "cells": [
    {
      "cell_type": "code",
      "execution_count": 1,
      "metadata": {
        "id": "DBKbVMB2rWFr"
      },
      "outputs": [],
      "source": [
        "from google.colab import drive"
      ]
    },
    {
      "cell_type": "code",
      "execution_count": 2,
      "metadata": {
        "colab": {
          "base_uri": "https://localhost:8080/"
        },
        "id": "BcZNWjiIrkk6",
        "outputId": "31b81aa1-d7e3-4cb0-b3f8-15865a5dfb5b"
      },
      "outputs": [
        {
          "output_type": "stream",
          "name": "stdout",
          "text": [
            "Drive already mounted at /content/gdrive/; to attempt to forcibly remount, call drive.mount(\"/content/gdrive/\", force_remount=True).\n"
          ]
        }
      ],
      "source": [
        "drive.mount('/content/gdrive/')"
      ]
    },
    {
      "cell_type": "code",
      "execution_count": 3,
      "metadata": {
        "id": "3QRf_S6brskN"
      },
      "outputs": [],
      "source": [
        "from music21 import converter, instrument, note, chord, stream\n",
        "import glob\n",
        "import pickle\n",
        "import numpy as np\n",
        "from keras.utils import np_utils\n",
        "from keras.models import Sequential, Model\n",
        "from keras.layers import Activation, Dense, Bidirectional, CuDNNLSTM, LeakyReLU, BatchNormalization, Reshape, Input\n",
        "from keras.callbacks import ModelCheckpoint\n",
        "import os\n",
        "from IPython.display import HTML, display"
      ]
    },
    {
      "cell_type": "code",
      "execution_count": 4,
      "metadata": {
        "colab": {
          "base_uri": "https://localhost:8080/"
        },
        "id": "KsOBJ-7irst7",
        "outputId": "8afc2008-a280-4466-9039-cbca6116025c"
      },
      "outputs": [
        {
          "output_type": "stream",
          "name": "stdout",
          "text": [
            "['.ipynb_checkpoints', '1_funk-groove1_138_beat_4-4.mid', '2_funk-groove2_105_beat_4-4.mid', '3_soul-groove3_86_beat_4-4.mid', '4_soul-groove4_80_beat_4-4.mid', '5_funk-groove5_84_beat_4-4.mid', '6_hiphop-groove6_87_beat_4-4.mid', '7_pop-groove7_138_beat_4-4.mid', '8_rock-groove8_65_beat_4-4.mid', '9_soul-groove9_105_beat_4-4.mid', '10_soul-groove10_102_beat_4-4.mid', '1_rock_105_beat_4-4.mid', '2_rock_105_beat_4-4.mid', '4_rock_105_beat_4-4.mid', '3_rock_105_beat_4-4.mid', '5_rock_105_beat_4-4.mid', '6_rock_105_beat_4-4.mid', '7_rock_105_beat_4-4.mid', '8_jazz_105_beat_4-4.mid', '9_rock_105_beat_4-4.mid', '10_rock_105_beat_4-4.mid', '11_rock_120_beat_4-4.mid', '12_rock_120_beat_4-4.mid', '13_rock_120_beat_4-4.mid', '14_rock_120_beat_4-4.mid', '16_jazz_120_beat_4-4.mid', '17_jazz_120_beat_4-4.mid', '15_jazz_120_beat_4-4.mid', '18_rock_120_beat_4-4.mid', '20_rock_120_beat_4-4.mid', '19_jazz_120_beat_4-4.mid', '21_jazz_120_beat_4-4.mid', '22_jazz_120_beat_4-4.mid', '23_jazz_120_beat_4-4.mid', '25_rock_120_beat_4-4.mid', '24_rock_120_beat_4-4.mid', '27_rock_120_beat_4-4.mid', '26_rock_120_beat_4-4.mid', '28_rock_120_beat_4-4.mid', '30_rock_120_beat_4-4.mid', '34_rock_120_beat_4-4.mid', '33_jazz_120_beat_4-4.mid', '35_rock_120_beat_4-4.mid', '32_jazz_120_beat_4-4.mid', '29_rock_120_beat_4-4.mid', '31_jazz_120_beat_4-4.mid', '36_rock_120_beat_4-4.mid', '37_rock_120_beat_4-4.mid', '41_rock_120_beat_4-4.mid', '40_rock_120_beat_4-4.mid', '38_rock_120_beat_4-4.mid', '42_rock_120_beat_4-4.mid', '39_jazz_120_beat_4-4.mid', '43_rock_120_beat_4-4.mid', '45_rock_120_beat_4-4.mid', '44_rock_120_beat_4-4.mid', '46_rock_120_beat_4-4.mid', '47_rock_120_beat_4-4.mid', '48_rock_120_beat_4-4.mid', '49_rock_120_beat_4-4.mid', '50_rock_120_beat_4-4.mid', 'caitsith.mid', 'Cids.mid', 'cosmo.mid', 'decisive.mid', 'DOS.mid', 'dontbeafraid.mid', 'electric_de_chocobo.mid']\n"
          ]
        }
      ],
      "source": [
        "print(os.listdir('/content/gdrive/My Drive/midi_files'))"
      ]
    },
    {
      "cell_type": "code",
      "execution_count": 5,
      "metadata": {
        "colab": {
          "base_uri": "https://localhost:8080/",
          "height": 64
        },
        "id": "nAStdkQbrswz",
        "outputId": "33dc750a-4aa5-43ce-8633-9a9a7c4ec1d4"
      },
      "outputs": [
        {
          "output_type": "display_data",
          "data": {
            "text/html": [
              "\n",
              "      <p>0</p>\n",
              "      <progress\n",
              "          value='100'\n",
              "          max='100',\n",
              "          style='width: 100%'\n",
              "      >\n",
              "          100\n",
              "      </progress>\n",
              "  "
            ],
            "text/plain": [
              "<IPython.core.display.HTML object>"
            ]
          },
          "metadata": {}
        }
      ],
      "source": [
        "def progress(file, value, max=100):\n",
        "  return HTML(\"\"\"\n",
        "      <p>{file}</p>\n",
        "      <progress\n",
        "          value='{value}'\n",
        "          max='{max}',\n",
        "          style='width: 100%'\n",
        "      >\n",
        "          {value}\n",
        "      </progress>\n",
        "  \"\"\".format(file=file, value=value, max=max))\n",
        "\n",
        "out = display(progress(0, 100), display_id=True)"
      ]
    },
    {
      "cell_type": "code",
      "execution_count": 6,
      "metadata": {
        "id": "TK7njmx5rszV"
      },
      "outputs": [],
      "source": [
        "def getNotes() :\n",
        "  DIR = '/content/gdrive/My Drive/midi_files'\n",
        "  num_files = len([name for name in os.listdir(DIR) if os.path.isfile(os.path.join(DIR, name))])\n",
        "  notes = []\n",
        "  i = 1\n",
        "  for file in glob.glob(DIR + '/*.mid'):\n",
        "      midi = converter.parse(file)\n",
        "      out.update(progress(file, i, num_files))\n",
        "      i = i + 1\n",
        "\n",
        "      notes_to_parse = None\n",
        "      parts = instrument.partitionByInstrument(midi)\n",
        "\n",
        "      if parts:\n",
        "          notes_to_parse = parts.parts[0].recurse()\n",
        "      else:\n",
        "          notes_to_parse = midi.flat.notes\n",
        "\n",
        "      for element in notes_to_parse:\n",
        "          if isinstance(element, note.Note):\n",
        "              notes.append(str(element.pitch))\n",
        "          elif isinstance(element, chord.Chord):\n",
        "              notes.append('.'.join(str(n) for n in element.normalOrder))\n",
        "  out.update(progress('COMPLETE', num_files, num_files))\n",
        "  with open('notes', 'wb') as filepath:\n",
        "      pickle.dump(notes, filepath)\n",
        "  return notes"
      ]
    },
    {
      "cell_type": "code",
      "execution_count": 7,
      "metadata": {
        "colab": {
          "base_uri": "https://localhost:8080/",
          "height": 98
        },
        "id": "fHws2eXPrs1l",
        "outputId": "1ec90258-328d-49d9-8180-4704626f63bb"
      },
      "outputs": [
        {
          "output_type": "display_data",
          "data": {
            "text/html": [
              "\n",
              "      <p>COMPLETE</p>\n",
              "      <progress\n",
              "          value='67'\n",
              "          max='67',\n",
              "          style='width: 100%'\n",
              "      >\n",
              "          67\n",
              "      </progress>\n",
              "  "
            ],
            "text/plain": [
              "<IPython.core.display.HTML object>"
            ]
          },
          "metadata": {}
        },
        {
          "output_type": "stream",
          "name": "stdout",
          "text": [
            "10378 Total Notes\n",
            "179 Unique Notes\n"
          ]
        }
      ],
      "source": [
        "notes = getNotes()\n",
        "print(str(len(notes)) + ' Total Notes')\n",
        "print(str(len(set(notes))) + ' Unique Notes')"
      ]
    },
    {
      "cell_type": "code",
      "execution_count": 8,
      "metadata": {
        "colab": {
          "base_uri": "https://localhost:8080/"
        },
        "id": "_XGPj2wIsvAt",
        "outputId": "b0bf9bf3-bbbb-4809-d526-41ae094269c3"
      },
      "outputs": [
        {
          "output_type": "stream",
          "name": "stdout",
          "text": [
            "['0', '0.1', '0.1.2', '0.1.3', '0.1.6', '0.2', '0.2.3', '0.2.4.7', '0.2.6', '0.2.7', '0.3', '0.3.7', '0.4', '0.4.6', '0.4.7', '0.4.8', '0.5', '0.6', '1.2', '1.3', '1.3.8', '1.5.8', '1.6', '1.7', '10.0', '10.0.1', '10.0.2', '10.0.4', '10.1', '10.11', '10.2', '10.2.4', '10.2.5', '10.3', '11', '11.0', '11.1', '11.2', '11.2.5.7', '11.3.6', '11.4', '2', '2.3', '2.3.8', '2.4', '2.5', '2.5.9', '2.6', '2.6.7.9', '2.6.8', '2.6.9', '2.7', '2.8', '3', '3.4', '3.4.8', '3.4.8.10', '3.5', '3.6.8', '3.7', '3.7.10', '3.7.9.10', '3.8', '3.9', '4', '4.10', '4.5', '4.6', '4.6.8', '4.7', '4.7.11', '4.7.9', '4.8', '4.8.10', '4.9', '5', '5.10', '5.7', '5.7.0', '5.7.10', '5.8', '5.8.0', '5.8.10', '5.9', '5.9.0', '5.9.11.0', '6', '6.10', '6.7', '6.7.11', '6.8', '6.8.0', '6.8.1', '6.9', '7', '7.0', '7.10', '7.10.2', '7.11', '7.11.0', '7.11.2', '7.8', '7.8.0', '7.9', '8.0', '8.0.1', '8.0.3', '8.1', '8.10', '8.10.0', '8.10.2', '8.9', '9', '9.0', '9.0.2', '9.0.4', '9.11', '9.11.2', '9.11.4', '9.2', 'A0', 'A2', 'A3', 'A4', 'A5', 'B-0', 'B-2', 'B-3', 'B-4', 'B-5', 'B2', 'B3', 'B4', 'B5', 'C#2', 'C#3', 'C#4', 'C#5', 'C#6', 'C2', 'C3', 'C4', 'C5', 'C6', 'D1', 'D2', 'D3', 'D4', 'D5', 'D6', 'E-2', 'E-3', 'E-4', 'E-5', 'E-6', 'E2', 'E3', 'E4', 'E5', 'E6', 'F#2', 'F#3', 'F#4', 'F#5', 'F#6', 'F1', 'F2', 'F3', 'F4', 'F5', 'G#2', 'G#4', 'G#5', 'G1', 'G2', 'G3', 'G4', 'G5', 'G6']\n"
          ]
        }
      ],
      "source": [
        "sequence_length = 500\n",
        "generator_input = 100\n",
        "total_notes = len(notes)\n",
        "unique_notes = len(set(notes))\n",
        "pitchnames = sorted(set(notes))\n",
        "print(pitchnames)\n",
        "note_to_int = dict( (note, number) for number, note in enumerate(pitchnames))\n",
        "int_to_note = dict((number, note) for number, note in enumerate(pitchnames))"
      ]
    },
    {
      "cell_type": "code",
      "execution_count": 9,
      "metadata": {
        "id": "oY4UQgSSsvEU"
      },
      "outputs": [],
      "source": [
        "trainx = []\n",
        "trainy = []"
      ]
    },
    {
      "cell_type": "code",
      "execution_count": 10,
      "metadata": {
        "colab": {
          "base_uri": "https://localhost:8080/"
        },
        "id": "v5jZRv6jsvF7",
        "outputId": "64f164a2-838e-49ed-bab4-3b2f38bc4c4d"
      },
      "outputs": [
        {
          "output_type": "stream",
          "name": "stdout",
          "text": [
            "Number of sequences: 9878\n",
            "Sequence 1: 11\n",
            "Sequence 1 output: 160\n"
          ]
        }
      ],
      "source": [
        "for i in range( 0, total_notes - sequence_length ):\n",
        "  x_sequence = notes[i : i + sequence_length]\n",
        "  y_sequence = notes[i + sequence_length]\n",
        "  trainx.append([ note_to_int[note] for note in x_sequence ])\n",
        "  trainy.append(note_to_int[y_sequence])\n",
        "\n",
        "n_sequences = len(trainx)\n",
        "print('Number of sequences: ' + str(n_sequences))\n",
        "print('Sequence 1: ' + str(trainx[0][0]))\n",
        "print('Sequence 1 output: ' + str(trainy[0]))"
      ]
    },
    {
      "cell_type": "code",
      "execution_count": 11,
      "metadata": {
        "colab": {
          "base_uri": "https://localhost:8080/"
        },
        "id": "vXjlalYlsvIr",
        "outputId": "83f4b859-f2cc-4fef-e52b-5f794c074027"
      },
      "outputs": [
        {
          "output_type": "stream",
          "name": "stdout",
          "text": [
            "[11, 10, 43, 170, 151, 145, 170, 151, 145, 170]\n",
            "trainx shape: (9878, 500, 1)\n"
          ]
        }
      ],
      "source": [
        "print(trainx[0][0:10])\n",
        "trainx = np.reshape(trainx, (n_sequences, sequence_length, 1))\n",
        "print('trainx shape: ' + str(trainx.shape))"
      ]
    },
    {
      "cell_type": "code",
      "execution_count": 12,
      "metadata": {
        "colab": {
          "base_uri": "https://localhost:8080/"
        },
        "id": "8Fvh95x8svLO",
        "outputId": "c8501828-31a4-424a-f11d-37171fe5ae9b"
      },
      "outputs": [
        {
          "output_type": "stream",
          "name": "stdout",
          "text": [
            "Index of category: 160\n",
            "[[ 11]\n",
            " [ 10]\n",
            " [ 43]\n",
            " [170]\n",
            " [151]\n",
            " [145]\n",
            " [170]\n",
            " [151]\n",
            " [145]\n",
            " [170]]\n"
          ]
        }
      ],
      "source": [
        "trainy = np_utils.to_categorical(trainy)\n",
        "\n",
        "latent_size = (trainx.shape[1], trainx.shape[2])\n",
        "\n",
        "print('Index of category: ' + str(np.argmax(trainy[0])))\n",
        "print(trainx[0][0:10])"
      ]
    },
    {
      "cell_type": "code",
      "execution_count": 13,
      "metadata": {
        "colab": {
          "base_uri": "https://localhost:8080/"
        },
        "id": "HtiicirzsvNk",
        "outputId": "fb9fcaad-a7dc-4741-ad41-aa510b3d31f1"
      },
      "outputs": [
        {
          "output_type": "stream",
          "name": "stdout",
          "text": [
            "Model: \"sequential\"\n",
            "_________________________________________________________________\n",
            " Layer (type)                Output Shape              Param #   \n",
            "=================================================================\n",
            " cu_dnnlstm (CuDNNLSTM)      (None, 500, 512)          1054720   \n",
            "                                                                 \n",
            " bidirectional (Bidirectiona  (None, 1024)             4202496   \n",
            " l)                                                              \n",
            "                                                                 \n",
            " dense (Dense)               (None, 512)               524800    \n",
            "                                                                 \n",
            " leaky_re_lu (LeakyReLU)     (None, 512)               0         \n",
            "                                                                 \n",
            " dense_1 (Dense)             (None, 256)               131328    \n",
            "                                                                 \n",
            " leaky_re_lu_1 (LeakyReLU)   (None, 256)               0         \n",
            "                                                                 \n",
            " dense_2 (Dense)             (None, 128)               32896     \n",
            "                                                                 \n",
            " leaky_re_lu_2 (LeakyReLU)   (None, 128)               0         \n",
            "                                                                 \n",
            " dense_3 (Dense)             (None, 64)                8256      \n",
            "                                                                 \n",
            " leaky_re_lu_3 (LeakyReLU)   (None, 64)                0         \n",
            "                                                                 \n",
            " dense_4 (Dense)             (None, 1)                 65        \n",
            "                                                                 \n",
            "=================================================================\n",
            "Total params: 5,954,561\n",
            "Trainable params: 0\n",
            "Non-trainable params: 5,954,561\n",
            "_________________________________________________________________\n"
          ]
        }
      ],
      "source": [
        "discriminator = Sequential()\n",
        "discriminator.add(CuDNNLSTM(512, input_shape=latent_size, return_sequences=True))\n",
        "discriminator.add(Bidirectional(CuDNNLSTM(512)))\n",
        "discriminator.add(Dense(512))\n",
        "discriminator.add(LeakyReLU(alpha=0.2))\n",
        "discriminator.add(Dense(256))\n",
        "discriminator.add(LeakyReLU(alpha=0.2))\n",
        "discriminator.add(Dense(128))\n",
        "discriminator.add(LeakyReLU(alpha=0.2))\n",
        "discriminator.add(Dense(64))\n",
        "discriminator.add(LeakyReLU(alpha=0.2))\n",
        "discriminator.add(Dense(1, activation='sigmoid'))\n",
        "\n",
        "discriminator.trainable = False\n",
        "discriminator.compile(loss='binary_crossentropy', optimizer='adam')\n",
        "\n",
        "discriminator.summary()"
      ]
    },
    {
      "cell_type": "code",
      "execution_count": 14,
      "metadata": {
        "colab": {
          "base_uri": "https://localhost:8080/"
        },
        "id": "82xP4XNOs6jl",
        "outputId": "972034a4-c6db-49fd-fa7d-ea3515043f5d"
      },
      "outputs": [
        {
          "output_type": "stream",
          "name": "stdout",
          "text": [
            "Model: \"sequential_1\"\n",
            "_________________________________________________________________\n",
            " Layer (type)                Output Shape              Param #   \n",
            "=================================================================\n",
            " dense_5 (Dense)             (None, 256)               25856     \n",
            "                                                                 \n",
            " leaky_re_lu_4 (LeakyReLU)   (None, 256)               0         \n",
            "                                                                 \n",
            " batch_normalization (BatchN  (None, 256)              1024      \n",
            " ormalization)                                                   \n",
            "                                                                 \n",
            " dense_6 (Dense)             (None, 512)               131584    \n",
            "                                                                 \n",
            " leaky_re_lu_5 (LeakyReLU)   (None, 512)               0         \n",
            "                                                                 \n",
            " batch_normalization_1 (Batc  (None, 512)              2048      \n",
            " hNormalization)                                                 \n",
            "                                                                 \n",
            " dense_7 (Dense)             (None, 1024)              525312    \n",
            "                                                                 \n",
            " leaky_re_lu_6 (LeakyReLU)   (None, 1024)              0         \n",
            "                                                                 \n",
            " batch_normalization_2 (Batc  (None, 1024)             4096      \n",
            " hNormalization)                                                 \n",
            "                                                                 \n",
            " dense_8 (Dense)             (None, 500)               512500    \n",
            "                                                                 \n",
            " reshape (Reshape)           (None, 500, 1)            0         \n",
            "                                                                 \n",
            "=================================================================\n",
            "Total params: 1,202,420\n",
            "Trainable params: 1,198,836\n",
            "Non-trainable params: 3,584\n",
            "_________________________________________________________________\n"
          ]
        }
      ],
      "source": [
        "generator = Sequential()\n",
        "generator.add(Dense(256, input_dim=generator_input))\n",
        "generator.add(LeakyReLU(alpha=0.2))\n",
        "generator.add(BatchNormalization(momentum=0.8))\n",
        "generator.add(Dense(512))\n",
        "generator.add(LeakyReLU(alpha=0.2))\n",
        "generator.add(BatchNormalization(momentum=0.8))\n",
        "generator.add(Dense(1024))\n",
        "generator.add(LeakyReLU(alpha=0.2))\n",
        "generator.add(BatchNormalization(momentum=0.8))\n",
        "generator.add(Dense(np.prod((trainx.shape[1], trainx.shape[2])), activation='tanh'))\n",
        "generator.add(Reshape(latent_size))\n",
        "generator.summary()"
      ]
    },
    {
      "cell_type": "code",
      "execution_count": 15,
      "metadata": {
        "colab": {
          "base_uri": "https://localhost:8080/"
        },
        "id": "S1GTGUNms6mD",
        "outputId": "96f9275b-1950-4faf-c5b3-90d7aa3300bb"
      },
      "outputs": [
        {
          "output_type": "stream",
          "name": "stdout",
          "text": [
            "Model: \"model\"\n",
            "_________________________________________________________________\n",
            " Layer (type)                Output Shape              Param #   \n",
            "=================================================================\n",
            " input_1 (InputLayer)        [(None, 100)]             0         \n",
            "                                                                 \n",
            " sequential_1 (Sequential)   (None, 500, 1)            1202420   \n",
            "                                                                 \n",
            " sequential (Sequential)     (None, 1)                 5954561   \n",
            "                                                                 \n",
            "=================================================================\n",
            "Total params: 7,156,981\n",
            "Trainable params: 1,198,836\n",
            "Non-trainable params: 5,958,145\n",
            "_________________________________________________________________\n"
          ]
        }
      ],
      "source": [
        "gan_input = Input(shape=(generator_input,))\n",
        "fake_seq = generator(gan_input)\n",
        "\n",
        "gan_output = discriminator(fake_seq)\n",
        "\n",
        "gan = Model(gan_input, gan_output)\n",
        "gan.compile(loss='binary_crossentropy', optimizer='adam')\n",
        "\n",
        "gan.summary()"
      ]
    },
    {
      "cell_type": "code",
      "execution_count": 16,
      "metadata": {
        "id": "QaLl6dwMs6o-"
      },
      "outputs": [],
      "source": [
        "batch_size = 124\n",
        "x_batch = trainx[ np.random.randint(0, trainx.shape[0], size=batch_size), : ]\n"
      ]
    },
    {
      "cell_type": "code",
      "execution_count": 18,
      "metadata": {
        "id": "IhfPi5JstHvh"
      },
      "outputs": [],
      "source": [
        "noise = np.random.uniform( 0, 1, size=[batch_size, 100] )\n",
        "fake = generator.predict(noise)\n",
        "fake = (fake)*float(unique_notes)\n",
        "fake = np.absolute(fake.astype(int))"
      ]
    },
    {
      "cell_type": "code",
      "execution_count": 19,
      "metadata": {
        "colab": {
          "base_uri": "https://localhost:8080/",
          "height": 73
        },
        "id": "i_t1KCuhtHyM",
        "outputId": "ec4e0a3b-8e44-4d33-e53f-7f02286e09f7"
      },
      "outputs": [
        {
          "output_type": "stream",
          "name": "stdout",
          "text": [
            "[23, 21, 17, 12, 42, 8, 39, 17, 23, 35, 9, 10, 46, 49, 7, 19, 0, 23, 24, 8, 14, 19, 7, 23, 42, 5, 5, 3, 23, 9, 12, 29, 6, 20, 31, 29, 26, 29, 27, 20, 15, 15, 23, 45, 32, 30, 7, 32, 6, 5, 2, 2, 21, 17, 20, 16, 13, 6, 45, 22, 1, 42, 40, 3, 35, 20, 25, 44, 4, 53, 27, 1, 33, 6, 28, 31, 18, 6, 34, 1, 18, 18, 39, 4, 17, 50, 55, 7, 9, 17, 9, 4, 28, 32, 48, 23, 18, 3, 39, 9, 7, 15, 15, 48, 1, 25, 11, 35, 12, 12, 5, 35, 22, 40, 3, 10, 23, 10, 16, 3, 33, 20, 25, 9]\n"
          ]
        },
        {
          "output_type": "execute_result",
          "data": {
            "application/vnd.google.colaboratory.intrinsic+json": {
              "type": "string"
            },
            "text/plain": [
              "'/content/gdrive/My Drive/output_midi/test_output11.mid'"
            ]
          },
          "metadata": {},
          "execution_count": 19
        }
      ],
      "source": [
        "offset = 0\n",
        "output_notes = []\n",
        "output = []\n",
        "for i in range(len(fake)):\n",
        "  output.append(fake[0][i][0])\n",
        "\n",
        "print(output)\n",
        "for pattern in output:\n",
        "    if pattern > 357:\n",
        "      pattern = 357\n",
        "    n = int_to_note[pattern]\n",
        "    if ('.' in n) or n.isdigit():\n",
        "        notes_in_chord = n.split('.')\n",
        "        notes = []\n",
        "        for current_note in notes_in_chord:\n",
        "            new_note = note.Note(int(current_note))\n",
        "            new_note.storedInstrument = instrument.SnareDrum()\n",
        "            notes.append(new_note)\n",
        "        new_chord = chord.Chord(notes)\n",
        "        new_chord.offset = offset\n",
        "        output_notes.append(new_chord)\n",
        "    else:\n",
        "        new_note = note.Note(n)\n",
        "        new_note.offset = offset\n",
        "        new_note.storedInstrument = instrument.SnareDrum()\n",
        "        output_notes.append(new_note)    \n",
        "    offset += 0.5\n",
        "\n",
        "midi_stream = stream.Stream(output_notes)\n",
        "midi_stream.write('midi', fp='/content/gdrive/My Drive/output_midi/test_output11.mid')"
      ]
    },
    {
      "cell_type": "code",
      "execution_count": 20,
      "metadata": {
        "colab": {
          "base_uri": "https://localhost:8080/",
          "height": 17
        },
        "id": "oAudKkCAWDGq",
        "outputId": "c26d1be4-98d2-46cf-c752-25b085b443be"
      },
      "outputs": [
        {
          "output_type": "display_data",
          "data": {
            "application/javascript": [
              "\n",
              "    async function download(id, filename, size) {\n",
              "      if (!google.colab.kernel.accessAllowed) {\n",
              "        return;\n",
              "      }\n",
              "      const div = document.createElement('div');\n",
              "      const label = document.createElement('label');\n",
              "      label.textContent = `Downloading \"${filename}\": `;\n",
              "      div.appendChild(label);\n",
              "      const progress = document.createElement('progress');\n",
              "      progress.max = size;\n",
              "      div.appendChild(progress);\n",
              "      document.body.appendChild(div);\n",
              "\n",
              "      const buffers = [];\n",
              "      let downloaded = 0;\n",
              "\n",
              "      const channel = await google.colab.kernel.comms.open(id);\n",
              "      // Send a message to notify the kernel that we're ready.\n",
              "      channel.send({})\n",
              "\n",
              "      for await (const message of channel.messages) {\n",
              "        // Send a message to notify the kernel that we're ready.\n",
              "        channel.send({})\n",
              "        if (message.buffers) {\n",
              "          for (const buffer of message.buffers) {\n",
              "            buffers.push(buffer);\n",
              "            downloaded += buffer.byteLength;\n",
              "            progress.value = downloaded;\n",
              "          }\n",
              "        }\n",
              "      }\n",
              "      const blob = new Blob(buffers, {type: 'application/binary'});\n",
              "      const a = document.createElement('a');\n",
              "      a.href = window.URL.createObjectURL(blob);\n",
              "      a.download = filename;\n",
              "      div.appendChild(a);\n",
              "      a.click();\n",
              "      div.remove();\n",
              "    }\n",
              "  "
            ],
            "text/plain": [
              "<IPython.core.display.Javascript object>"
            ]
          },
          "metadata": {}
        },
        {
          "output_type": "display_data",
          "data": {
            "application/javascript": [
              "download(\"download_69b19745-2f55-4e0e-b408-34e4061186d3\", \"test_output11.mid\", 2672)"
            ],
            "text/plain": [
              "<IPython.core.display.Javascript object>"
            ]
          },
          "metadata": {}
        }
      ],
      "source": [
        "from google.colab import files\n",
        "files.download('/content/gdrive/My Drive/output_midi/test_output11.mid')"
      ]
    }
  ],
  "metadata": {
    "colab": {
      "name": "musicGeneration.ipynb",
      "provenance": []
    },
    "kernelspec": {
      "display_name": "Python 3",
      "name": "python3"
    },
    "language_info": {
      "name": "python"
    }
  },
  "nbformat": 4,
  "nbformat_minor": 0
}